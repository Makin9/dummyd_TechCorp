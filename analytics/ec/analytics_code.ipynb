{
 "cells": [
  {
   "cell_type": "code",
   "execution_count": null,
   "metadata": {},
   "outputs": [],
   "source": [
    "core_path=\"\"\n",
    "base_path=f'{core_path}/base'\n",
    "ec_path=f'{core_path}/ec'"
   ]
  },
  {
   "cell_type": "code",
   "execution_count": null,
   "metadata": {},
   "outputs": [],
   "source": [
    "import pandas as pd\n",
    "\n",
    "\n",
    "# ユーザーデータのファイルを読み込む\n",
    "user_data_path = f'{base_path}/users.csv'\n",
    "user_data = pd.read_csv(user_data_path)\n",
    "\n",
    "# データの最初の数行を表示して内容を確認\n",
    "print(user_data.head())\n",
    "\n",
    "# ECサイト事業関連ファイルの読み込み\n",
    "def add_path(file):\n",
    "    return f'{ec_path}/{file}'\n",
    "\n",
    "campaigns_data = pd.read_csv(add_path(\"campaigns.csv\"))\n",
    "carts_data = pd.read_csv(add_path(\"carts.csv\"))\n",
    "order_details_data = pd.read_csv(add_path(\"order_details.csv\"))\n",
    "orders_data = pd.read_csv(add_path(\"orders.csv\"))\n",
    "product_views_data = pd.read_csv(add_path(\"product_views.csv\"))\n",
    "products_data = pd.read_csv(add_path(\"products.csv\"))\n",
    "recommendations_data = pd.read_csv(add_path(\"recommendations.csv\"))\n",
    "reviews_data = pd.read_csv(add_path(\"reviews.csv\"))\n",
    "stores_data = pd.read_csv(add_path(\"stores.csv\"))\n",
    "user_behaviors_data = pd.read_csv(add_path(\"user_behaviors.csv\"))\n",
    "\n",
    "# データの最初の数行を表示して内容を確認\n",
    "campaigns_head = campaigns_data.head()\n",
    "carts_head = carts_data.head()\n",
    "order_details_head = order_details_data.head()\n",
    "orders_head = orders_data.head()\n",
    "product_views_head = product_views_data.head()\n",
    "products_head = products_data.head()\n",
    "recommendations_head = recommendations_data.head()\n",
    "reviews_head = reviews_data.head()\n",
    "stores_head = stores_data.head()\n",
    "user_behaviors_head = user_behaviors_data.head()\n",
    "\n",
    "campaigns_head, carts_head, order_details_head, orders_head, product_views_head, products_head, recommendations_head, reviews_head, stores_head, user_behaviors_head\n",
    "\n",
    "\n"
   ]
  },
  {
   "cell_type": "markdown",
   "metadata": {},
   "source": [
    "以下の分析を行います：  \n",
    "1. **売上分析**：注文データ（orders.csv）と注文詳細データ（order_details.csv）を使用して、売上高、注文数、平均注文金額などの分析を行います。\n",
    "2. **顧客行動分析**：ユーザー行動データ（user_behaviors.csv）と商品閲覧データ（product_views.csv）を使用して、顧客の行動パターン（商品の閲覧、カート追加、いいねなど）を分析します。\n",
    "3. **商品の人気度分析**：商品閲覧データ（product_views.csv）、レビューデータ（reviews.csv）、推薦データ（recommendations.csv）を使用して、どの商品が最も人気があるか、また顧客によく推薦されているかを分析します。\n",
    "4. **キャンペーンの効果分析**：キャンペーンデータ（campaigns.csv）を使用して、各キャンペーンの効果を分析します。特にキャンペーン期間中の売上や顧客行動の変化を見ていきます。\n"
   ]
  },
  {
   "cell_type": "markdown",
   "metadata": {},
   "source": [
    "まずは**売上分析**から始めます。注文データと注文詳細データを結合し、売上高、注文数、平均注文金額などの基本的な指標を計算します。\n",
    "\n",
    "売上分析の結果は以下の通りです：  \n",
    "- 総売上: 約763,542円\n",
    "- 総注文数: 3,000件\n",
    "- 平均注文金額: 約254.51円\n"
   ]
  },
  {
   "cell_type": "code",
   "execution_count": null,
   "metadata": {},
   "outputs": [],
   "source": [
    "# 注文データと注文詳細データの結合\n",
    "combined_order_data = pd.merge(orders_data, order_details_data, on=\"order_id\")\n",
    "\n",
    "# 売上高、注文数、平均注文金額の計算\n",
    "sales_stats = combined_order_data.agg(\n",
    "    total_sales=pd.NamedAgg(column='price', aggfunc='sum'),\n",
    "    total_orders=pd.NamedAgg(column='order_id', aggfunc=pd.Series.nunique),\n",
    "    average_order_value=pd.NamedAgg(column='price', aggfunc='mean')\n",
    ")\n",
    "\n",
    "sales_stats\n"
   ]
  },
  {
   "cell_type": "markdown",
   "metadata": {},
   "source": [
    "次に、顧客行動分析を行います。ユーザー行動データ（user_behaviors.csv）と商品閲覧データ（product_views.csv）を使用して、顧客の行動パターン（商品の閲覧、カート追加、いいねなど）を分析します。これにより、顧客がどのような行動を取っているかを理解し、マーケティング戦略や製品開発に活用できます  \n",
    "\n",
    "顧客行動分析の結果は以下の通りです：\n",
    "\n",
    "### 顧客行動のタイプ別集計（user_behaviors.csv）\n",
    "- クリック: 1,539回\n",
    "- いいね: 1,515回\n",
    "- カート追加: 1,487回\n",
    "- ウィッシュリスト追加: 1,459回\n",
    "### 商品閲覧データの集計（product_views.csv）\n",
    "- ユーザーごとの平均閲覧回数は約12回\n",
    "- 閲覧回数の標準偏差は約3.44回\n",
    "- 最小閲覧回数は3回、最大閲覧回数は23回\n",
    "\n",
    "これらのデータから、顧客はECサイトで様々な行動を取っており、特に「クリック」と「いいね」が多いことがわかります。また、商品を閲覧する頻度も比較的高いことが示されています。  \n"
   ]
  },
  {
   "cell_type": "code",
   "execution_count": null,
   "metadata": {},
   "outputs": [],
   "source": [
    "# 顧客行動データの行動タイプ別の集計\n",
    "behavior_type_stats = user_behaviors_data['behavior_type'].value_counts()\n",
    "\n",
    "# 商品閲覧データの集計（ユーザーIDごとの閲覧回数）\n",
    "user_view_counts = product_views_data['user_id'].value_counts()\n",
    "\n",
    "behavior_type_stats, user_view_counts.describe()\n"
   ]
  },
  {
   "cell_type": "markdown",
   "metadata": {},
   "source": [
    "次に、商品の人気度分析を行います。商品閲覧データ（product_views.csv）、レビューデータ（reviews.csv）、推薦データ（recommendations.csv）を使用して、どの商品が最も人気があるか、また顧客によく推薦されているかを分析します。これにより、特に注目されている商品や顧客の関心が高い商品を特定できます  \n",
    "\n",
    "商品の人気度分析の結果は以下の通りです：  \n",
    "\n",
    "### 商品閲覧回数が最も多い商品（product_views.csv）\n",
    "- トップ10の商品IDとその閲覧回数が示されています。例えば、商品ID 161は35回閲覧されています。  \n",
    "\n",
    "### レビューの星評価が高い商品（reviews.csv）\n",
    "- 星評価の平均が5.0（最高評価）の商品IDが複数あります。これらの商品は顧客から高い評価を受けています。\n",
    "\n",
    "### 顧客によく推薦されている商品（recommendations.csv）\n",
    "- トップ10の商品IDとその推薦回数が示されています。例えば、商品ID 122は20回推薦されています。\n",
    "\n",
    "これらの分析から、ECサイト上で特に注目を集めている商品や顧客によって高く評価されている商品を特定できます。これらの情報は、在庫管理やプロモーション戦略、さらには新商品開発の方針を決定する際に役立つでしょう。  \n"
   ]
  },
  {
   "cell_type": "code",
   "execution_count": null,
   "metadata": {},
   "outputs": [],
   "source": [
    "# 商品の人気度分析：商品閲覧回数\n",
    "popular_products_views = product_views_data['product_id'].value_counts().head(10)\n",
    "\n",
    "# 商品の人気度分析：レビューの星評価平均\n",
    "average_product_ratings = reviews_data.groupby('product_id')['stars'].mean().sort_values(ascending=False).head(10)\n",
    "\n",
    "# 商品の推薦回数\n",
    "popular_recommendations = recommendations_data['product_id'].value_counts().head(10)\n",
    "\n",
    "popular_products_views, average_product_ratings, popular_recommendations\n"
   ]
  },
  {
   "cell_type": "markdown",
   "metadata": {},
   "source": [
    "\n",
    "次に、キャンペーンの効果分析を行います。キャンペーンデータ（campaigns.csv）を使用して、各キャンペーンの効果を分析します。特にキャンペーン期間中の売上や顧客行動の変化を見ていきます。  \n",
    "\n",
    "\n",
    "キャンペーンの効果分析の結果は以下の通りです：  \n",
    "\n",
    "各キャンペーン期間中の総売上が計算され、売上の高いキャンペーンが特定されました。例えば、以下は売上の高かったトップ5のキャンペーンです：  \n",
    " \n",
    "1. キャンペーンID 320: \"Stand-alone incremental budgetary management\" - 総売上: 26,678.30円\n",
    "2. キャンペーンID 108: \"Horizontal composite architecture\" - 総売上: 26,062.62円\n",
    "3. キャンペーンID 456: \"Right-sized zero-defect functionalities\" - 総売上: 26,062.62円\n",
    "4. キャンペーンID 235: \"Configurable composite Graphical User Interface\" - 総売上: 25,242.00円\n",
    "5. キャンペーンID 307: \"Synergistic clear-thinking monitoring\" - 総売上: 25,076.10円\n",
    "\n",
    "これらのデータから、特定のキャンペーンが売上を大きく増加させる効果があることがわかります。キャンペーンの企画や実施時には、これらの成果を参考にして効果的なキャンペーンを計画することが重要です。  "
   ]
  },
  {
   "cell_type": "code",
   "execution_count": null,
   "metadata": {},
   "outputs": [],
   "source": [
    "# キャンペーンの開始日と終了日を日付型に変換\n",
    "campaigns_data['start_date'] = pd.to_datetime(campaigns_data['start_date'])\n",
    "campaigns_data['end_date'] = pd.to_datetime(campaigns_data['end_date'])\n",
    "\n",
    "# 注文データの注文日を日付型に変換\n",
    "orders_data['order_date'] = pd.to_datetime(orders_data['order_date'])\n",
    "\n",
    "# 各キャンペーン期間中の売上の計算\n",
    "campaign_sales = []\n",
    "for _, row in campaigns_data.iterrows():\n",
    "    campaign_id = row['campaign_id']\n",
    "    campaign_name = row['campaign_name']\n",
    "    start_date = row['start_date']\n",
    "    end_date = row['end_date']\n",
    "\n",
    "    # キャンペーン期間中の注文を抽出\n",
    "    campaign_orders = orders_data[(orders_data['order_date'] >= start_date) & (orders_data['order_date'] <= end_date)]\n",
    "\n",
    "    # キャンペーン期間中の総売上を計算\n",
    "    campaign_sales.append({\n",
    "        'campaign_id': campaign_id,\n",
    "        'campaign_name': campaign_name,\n",
    "        'total_sales': combined_order_data[combined_order_data['order_id'].isin(campaign_orders['order_id'])]['price'].sum()\n",
    "    })\n",
    "\n",
    "campaign_sales_df = pd.DataFrame(campaign_sales)\n",
    "\n",
    "campaign_sales_df.sort_values(by='total_sales', ascending=False)\n"
   ]
  },
  {
   "cell_type": "markdown",
   "metadata": {},
   "source": [
    "ユーザー属性とこれまでのデータ（GA以外）とを組み合わせた分析では、以下のようなアプローチを取ることができます：  \n",
    "\n",
    "1. **ユーザー属性と注文行動の分析**：ユーザーデータと注文データを組み合わせて、年齢、性別、地域などの属性に基づく注文行動の違いを分析します。\n",
    "2. **実施期間ごとのキャンペーンの売り上げ**：各キャンペーンの実施期間ごとの売り上げを比較して、どの期間のキャンペーンが最も効果的であったかを分析します。\n",
    "3. **キャンペーンを利用するユーザの傾向**：キャンペーンに反応するユーザーの属性（年齢、性別、地域など）を分析して、特定のキャンペーンに引き付けられやすいユーザーセグメントを特定します。\n",
    "4. **ユーザー属性と商品の人気度の分析**：ユーザーデータと商品閲覧やレビューデータを組み合わせて、特定のユーザーセグメントがどの商品に興味を持っているかを分析します。"
   ]
  },
  {
   "cell_type": "markdown",
   "metadata": {},
   "source": [
    "まずはユーザー属性と注文行動の分析から始めましょう。ユーザーデータと注文データを結合し、年齢層ごとの注文数や平均注文金額などを計算します。これにより、異なる年齢層の顧客がどのような購買行動をしているかを把握できます。  \n",
    "代わりに、注文詳細データ（order_details.csv）に含まれる価格情報を使用して、平均注文金額を計算することができます。注文データと注文詳細データを結合し、その後ユーザーデータと結合して年齢層別の注文行動を再分析します。  "
   ]
  },
  {
   "cell_type": "markdown",
   "metadata": {},
   "source": [
    "それでは、注文データと注文詳細データを結合し、その後ユーザーデータと結合して、年齢層別の注文行動を再分析します。この分析では、年齢層ごとの総売上と平均注文金額を計算します。  \n",
    "\n",
    "また、キャンペーンの実施時期による分析についても進めます。これには、キャンペーンデータと注文データを結合し、キャンペーンごとの売上を時期別に分析します。  \n",
    "\n",
    "まずは、年齢層別の注文行動の分析から始めます。  \n",
    "\n",
    "年齢層別の注文行動の分析結果は以下の通りです：  \n",
    "\n",
    "|年齢層 | 総売上 (円) | 平均注文金額 (円)|\n",
    "| --- | --- | --- |\n",
    "|10歳～20歳\t| 47,856.24\t| 249.25|\n",
    "|20歳～30歳\t| 117,150.97\t| 255.23|\n",
    "|30歳～40歳\t| 161,357.42\t| 255.31|\n",
    "|40歳～50歳\t| 130,800.64\t| 258.50|\n",
    "|50歳～60歳\t| 159,153.37\t| 255.05|\n",
    "|60歳～70歳\t| 147,222.92\t| 250.81|\n",
    "|70歳以上\t| 0.00\t| NaN |\n",
    "\n",
    "この分析から、30歳～60歳の年齢層が最も高い売上を記録していることがわかります。平均注文金額は年齢層によって大きく変わらず、250円から260円程度で安定しています。70歳以上の年齢層では売上が確認されていません。  \n",
    "\n",
    "次に、キャンペーンの実施時期による分析を行います。キャンペーンデータと注文データを結合し、キャンペーンごとの売上を時期別に分析します。これにより、特定のキャンペーンの期間中に売上がどのように変化したかを確認できます。  "
   ]
  },
  {
   "cell_type": "code",
   "execution_count": null,
   "metadata": {},
   "outputs": [],
   "source": [
    "# 注文データと注文詳細データを結合\n",
    "combined_orders_details = pd.merge(orders_data, order_details_data, on=\"order_id\")\n",
    "\n",
    "# 注文データとユーザーデータを結合\n",
    "combined_orders_users = pd.merge(combined_orders_details, user_data, on=\"user_id\")\n",
    "\n",
    "# 年齢層を定義して年齢層別の注文行動を分析\n",
    "combined_orders_users['age_group'] = pd.cut(combined_orders_users['age'], bins=range(10, 81, 10))\n",
    "\n",
    "# 年齢層別の注文行動の統計\n",
    "age_group_order_stats = combined_orders_users.groupby('age_group').agg(\n",
    "    total_sales=pd.NamedAgg(column='price', aggfunc='sum'),\n",
    "    average_order_value=pd.NamedAgg(column='price', aggfunc='mean')\n",
    ").reset_index()\n",
    "\n",
    "age_group_order_stats\n"
   ]
  },
  {
   "cell_type": "markdown",
   "metadata": {},
   "source": [
    "実施期間ごとのキャンペーンの売り上げ分析から始めます。キャンペーンごとの売上を、開始日と終了日に基づいて分類し、各期間の売上を比較します。  \n",
    "\n",
    "実施期間ごとのキャンペーンの売り上げ分析の結果は以下の通りです。  \n",
    "\n",
    "|ペーンID | キャンペーン名 | 開始日 | 終了日 | 総売上 (円) | 期間 (日) | 1日あたりの売上 (円)|\n",
    "| --- | --- | --- | --- | --- | --- | --- |\n",
    "|320 | Stand-alone incremental budgetary management | 2023-07-25 | 2023-08-24 | 26,678.30 | 30 | 889.28|\n",
    "|108 | Horizontal composite architecture | 2023-08-02 | 2023-08-29 | 26,062.62 | 27 | 965.28|\n",
    "|456 | Right-sized zero-defect functionalities | 2023-08-02 | 2023-08-31 | 26,062.62 | 29 | 898.71|\n",
    "|235 | Configurable composite Graphical User Interface|\t2023-08-05 | 2023-09-03 | 25,242.00 | 29 | 870.41|\n",
    "|307 | Synergistic clear-thinking monitoring | 2023-08-23 | 2023-09-22 | 25,076.10 | 30 | 835.87|\n",
    "\n",
    "\n",
    "これらのデータから、キャンペーンの期間や内容によって売上が大きく変わることがわかります。特に、キャンペーンID 320と108は1日あたりの売上が高く、効果的なキャンペーンであると言えます。  "
   ]
  },
  {
   "cell_type": "code",
   "execution_count": null,
   "metadata": {},
   "outputs": [],
   "source": [
    "# キャンペーン期間ごとの売上を計算\n",
    "campaign_period_sales = campaigns_data.copy()\n",
    "campaign_period_sales['total_sales'] = campaign_period_sales.apply(\n",
    "    lambda row: combined_orders_users[\n",
    "        (combined_orders_users['order_date'] >= row['start_date']) & \n",
    "        (combined_orders_users['order_date'] <= row['end_date'])\n",
    "    ]['price'].sum(), axis=1\n",
    ")\n",
    "\n",
    "# 各キャンペーン期間の売上を計算\n",
    "campaign_period_sales['duration_days'] = (campaign_period_sales['end_date'] - campaign_period_sales['start_date']).dt.days\n",
    "campaign_period_sales['sales_per_day'] = campaign_period_sales['total_sales'] / campaign_period_sales['duration_days']\n",
    "\n",
    "# 売上の高いキャンペーンと期間ごとの売上を表示\n",
    "campaign_period_sales.sort_values(by='total_sales', ascending=False).head()\n"
   ]
  },
  {
   "cell_type": "markdown",
   "metadata": {},
   "source": [
    "分析を行う際に問題が発生しました。ユーザーデータに性別（gender）のカラムが存在しないため、性別分布の分析ができませんでした。  \n",
    "\n",
    "代わりに、年齢と地域分布のみでキャンペーンを利用するユーザーの傾向を分析します。この分析では、キャンペーンごとの平均年齢と地域分布を確認します。  \n",
    "\n",
    "また、性別に関するデータが必要な場合は、適切なデータを提供いただければ分析を進めることが可能です。今回は、利用可能なデータに基づいて分析を進めます。 ​  \n",
    "\n",
    "キャンペーンを利用するユーザーの属性分析の結果は以下の通りです：\n",
    "\n",
    "### キャンペーン別の平均年齢と地域分布\n",
    "（例）\n",
    "\n",
    "1. キャンペーンID 2: \"Function-based mobile benchmark\"\n",
    "   - 平均年齢: 37.5歳\n",
    "   - 地域分布: 鹿児島県山武市、大分県杉並区 など\n",
    "2. キャンペーンID 3: \"Implemented impactful orchestration\"\n",
    "   - 平均年齢: 52.5歳\n",
    "   - 地域分布: 鹿児島県青ヶ島村、熊本県羽村市 など\n",
    "3. キャンペーンID 4: \"Automated regional flexibility\"\n",
    "   - 平均年齢: 54.0歳\n",
    "   - 地域分布: 岡山県御蔵島村、高知県印西市 など\n",
    "\n",
    "この分析から、キャンペーンによって反応するユーザーの年齢層や地域が異なることがわかります。これは、キャンペーンをターゲットに合わせて設計する際の重要な情報となります。  "
   ]
  },
  {
   "cell_type": "code",
   "execution_count": null,
   "metadata": {},
   "outputs": [],
   "source": [
    "# キャンペーンを利用するユーザーの属性分析（性別データなし）\n",
    "campaign_user_attributes = campaign_user_data.groupby(['campaign_id', 'campaign_name']).agg(\n",
    "    average_age=pd.NamedAgg(column='age', aggfunc='mean'),\n",
    "    region_distribution=pd.NamedAgg(column='address', aggfunc=lambda x: x.str.split().str[0].value_counts().to_dict())\n",
    ").reset_index()\n",
    "\n",
    "campaign_user_attributes.head()\n"
   ]
  },
  {
   "cell_type": "markdown",
   "metadata": {},
   "source": [
    "ユーザー属性と商品の人気度の分析については、まだ実施していませんでした。この分析では、ユーザーデータ（年齢、性別、地域など）と商品閲覧データ、レビューデータを組み合わせて、特定のユーザーセグメントがどの商品に興味を持っているかを分析します。  \n",
    "\n",
    "この分析を行うことで、特定の年齢層や地域のユーザーが好む商品の傾向や、人気のある商品の特徴を理解することができます。これにより、在庫管理やマーケティング戦略をより効果的に行うための洞察を得ることができます。  \n",
    "\n",
    "それでは、ユーザー属性と商品の人気度に関する分析を進めます。まずは、ユーザーデータを商品閲覧データやレビューデータと結合し、年齢層や地域ごとの商品の閲覧回数やレビューの評価を分析します。  \n",
    "\n",
    "分析を行う際に問題が発生しました。ユーザーデータと商品閲覧データ、レビューデータの結合時にage_groupカラムが存在しないため、年齢層別の分析ができませんでした。  \n",
    "\n",
    "この問題を解決するために、ユーザーデータに年齢層を再度追加してから、商品閲覧データとレビューデータと結合し直し、分析を進めます。年齢層は10歳刻みで分けて、各年齢層がどの商品に興味を示しているか（閲覧回数）や、どの商品に高い評価を与えているか（平均レビュー評価）を分析します。  \n",
    "\n",
    "年齢層別の商品の人気度分析の結果は以下の通りです：  \n",
    "### 年齢層別の商品閲覧回数\n",
    "- 商品IDごとに各年齢層からの閲覧回数を集計しました。例えば、10歳～20歳の年齢層では、商品ID 2が1回、商品ID 5が2回閲覧されています。\n",
    "\n",
    "### 年齢層別の商品の平均レビュー評価\n",
    "- 各年齢層で商品IDごとの平均レビュー評価を計算しました。例えば、10歳～20歳の年齢層では、商品ID 1と2の平均評価が5.0、商品ID 4の平均評価が5.0です。\n",
    "\n",
    "\n",
    "この分析から、特定の年齢層が特定の商品にどれだけ興味を持っているか、またどの商品が高い評価を受けているかを把握できます。これらの情報は、ターゲット市場の理解やマーケティング戦略の策定に役立ちます。  "
   ]
  },
  {
   "cell_type": "code",
   "execution_count": null,
   "metadata": {},
   "outputs": [],
   "source": [
    "# ユーザーデータに年齢層を追加\n",
    "user_data['age_group'] = pd.cut(user_data['age'], bins=range(10, 81, 10))\n",
    "\n",
    "# ユーザーデータと商品閲覧データの結合\n",
    "combined_user_product_views = pd.merge(product_views_data, user_data, on=\"user_id\")\n",
    "\n",
    "# ユーザーデータとレビューデータの結合\n",
    "combined_user_reviews = pd.merge(reviews_data, user_data, on=\"user_id\")\n",
    "\n",
    "# 年齢層別の商品閲覧回数の分析\n",
    "age_group_product_views = combined_user_product_views.groupby(['age_group', 'product_id']).size().reset_index(name='view_count')\n",
    "\n",
    "# 年齢層別の商品の平均レビュー評価の分析\n",
    "age_group_product_reviews = combined_user_reviews.groupby(['age_group', 'product_id'])['stars'].mean().reset_index()\n",
    "\n",
    "age_group_product_views.head(), age_group_product_reviews.head()\n"
   ]
  },
  {
   "cell_type": "markdown",
   "metadata": {},
   "source": [
    "Google Analytics（GA）のデータを用いた分析に進みましょう。提供されたGAのデータは以下の2つです：\n",
    "\n",
    "1. ga_pageviews.csv - ページ閲覧に関するデータ\n",
    "2. ga_sessions.csv - セッションに関するデータ\n",
    "これらのデータを使用して、以下のような分析を行うことができます：  \n",
    "1. ウェブサイトのトラフィック分析：ページ閲覧数やセッション数を分析して、ウェブサイトの人気度や訪問者の傾向を理解します。\n",
    "2. 特定ページの訪問者分析：特定のページ（例えば、商品ページやキャンペーンページなど）の訪問者数や滞在時間を分析します。\n",
    "3. 訪問者の行動パターン分析：訪問者がウェブサイト上でどのような行動を取っているか（閲覧ページ、クリックパスなど）を分析します。  \n",
    "\n",
    "まずは、ウェブサイトのトラフィック分析から始めます。ページ閲覧データとセッションデータを使用して、ページ閲覧数、訪問者数、セッション数などの基本的なトラフィック指標を計算します。  \n",
    "\n",
    "分析を行う際に問題が発生しました。GAのページ閲覧データ(ga_pageviews.csv)にはpageviewsカラムが存在しないようです。同様に、セッションデータ(ga_sessions.csv)に関しても必要なカラムが存在しない可能性があります。  \n",
    "\n",
    "これを解決するために、まずは両方のファイルの内容を確認して、どのようなカラムが含まれているかを把握する必要があります。その後、適切なカラムを使用してトラフィック分析を行います。  \n",
    "\n",
    "それでは、GAのデータファイルの内容を確認しましょう。  "
   ]
  },
  {
   "cell_type": "code",
   "execution_count": null,
   "metadata": {},
   "outputs": [],
   "source": [
    "\n",
    "\n",
    "ga_pageviews_data = pd.read_csv(add_path(\"ga_pageviews.csv\"))\n",
    "ga_sessions_data = pd.read_csv(add_path(\"ga_sessions.csv\"))\n",
    "\n",
    "# ページ閲覧データの基本統計情報\n",
    "pageviews_stats = ga_pageviews_data.agg(\n",
    "    total_pageviews=pd.NamedAgg(column='pageviews', aggfunc='sum'),\n",
    "    average_pageviews_per_session=pd.NamedAgg(column='pageviews', aggfunc='mean')\n",
    ")\n",
    "\n",
    "# セッションデータの基本統計情報\n",
    "sessions_stats = ga_sessions_data.agg(\n",
    "    total_sessions=pd.NamedAgg(column='sessions', aggfunc='sum'),\n",
    "    average_session_duration=pd.NamedAgg(column='session_duration', aggfunc='mean')\n",
    ")\n",
    "\n",
    "pageviews_stats, sessions_stats\n"
   ]
  },
  {
   "cell_type": "markdown",
   "metadata": {},
   "source": [
    "ウェブサイトのトラフィック分析の結果は以下の通りです：\n",
    "\n",
    "### ページ閲覧データの基本統計情報\n",
    "- 総ページ閲覧数: 5,000回\n",
    "- 閲覧されたユニークなページ数: 50ページ\n",
    "  \n",
    "### セッションデータの基本統計情報\n",
    "- 総セッション数: 5,000セッション\n",
    "- 平均セッション期間: 約182.7日\n",
    "\n",
    "ページ閲覧データからは、ウェブサイト上で特に人気のあるページや多くのユーザーに閲覧されているページを特定することができます。セッションデータからは、ウェブサイトに訪れるユーザーのセッション期間の長さを把握できます。  "
   ]
  },
  {
   "cell_type": "code",
   "execution_count": null,
   "metadata": {},
   "outputs": [],
   "source": [
    "# ページ閲覧データの基本統計情報\n",
    "pageviews_stats = {\n",
    "    'total_pageviews': ga_pageviews_data['view_id'].nunique(),\n",
    "    'unique_pages_viewed': ga_pageviews_data['page_path'].nunique()\n",
    "}\n",
    "\n",
    "# セッションデータの基本統計情報\n",
    "ga_sessions_data['session_duration'] = pd.to_datetime(ga_sessions_data['session_end']) - pd.to_datetime(ga_sessions_data['session_start'])\n",
    "sessions_stats = {\n",
    "    'total_sessions': ga_sessions_data['session_id'].nunique(),\n",
    "    'average_session_duration': ga_sessions_data['session_duration'].mean()\n",
    "}\n",
    "\n",
    "pageviews_stats, sessions_stats\n"
   ]
  },
  {
   "cell_type": "markdown",
   "metadata": {},
   "source": [
    "次に、特定ページの訪問者分析と訪問者の行動パターン分析を行います。  \n",
    "\n",
    "### 特定ページの訪問者分析\n",
    "この分析では、ページ閲覧データから特定のページ（例えば、最もアクセス数が多いページや特定の商品ページなど）の訪問者数や訪問頻度、滞在時間などを確認します。これにより、そのページの人気度やユーザーの関心度を理解できます。  \n",
    "\n",
    "### 訪問者の行動パターン分析\n",
    "セッションデータとページ閲覧データを組み合わせて、ユーザーがウェブサイト上でどのような行動を取っているか（訪問ページ、セッション中の行動パス、訪問ページ間の移動など）を分析します。これにより、ユーザーの興味や行動傾向を把握し、ウェブサイトの改善やマーケティング戦略の策定に役立てることができます。  \n",
    "\n",
    "まずは、特定ページの訪問者分析から始めます。最もアクセス数が多いページを特定し、そのページへの訪問者数や訪問頻度、滞在時間などを計算します。\n",
    "\n",
    "特定ページの訪問者分析\n",
    "最もアクセス数が多いページのトップ5は以下の通りです：  \n",
    "\n",
    "1. /page45 - 122回のアクセス\n",
    "2. /page13 - 121回のアクセス\n",
    "3. /page23 - 119回のアクセス\n",
    "4. /page32 - 118回のアクセス\n",
    "5. /page41 - 117回のアクセス\n",
    "\n",
    "特に、/page45に関する分析結果は以下のようになります：  \n",
    "- 訪問者数: 121人\n",
    "- ページ閲覧数: 122回\n",
    "\n",
    "これらの結果から、/page45がウェブサイト上で特に人気のあるページであることがわかります。多くの訪問者がこのページを訪れ、閲覧しています。  "
   ]
  },
  {
   "cell_type": "code",
   "execution_count": null,
   "metadata": {},
   "outputs": [],
   "source": [
    "# 最もアクセス数が多いページを特定\n",
    "top_pages = ga_pageviews_data['page_path'].value_counts().head(5)\n",
    "\n",
    "# 特定ページの訪問者分析\n",
    "top_page = top_pages.index[0]\n",
    "top_page_data = ga_pageviews_data[ga_pageviews_data['page_path'] == top_page]\n",
    "\n",
    "# 訪問者数と訪問頻度の計算\n",
    "top_page_visitors = top_page_data['session_id'].nunique()\n",
    "top_page_views = top_page_data['view_id'].nunique()\n",
    "\n",
    "top_pages, {'top_page': top_page, 'visitors': top_page_visitors, 'page_views': top_page_views}\n"
   ]
  },
  {
   "cell_type": "markdown",
   "metadata": {},
   "source": [
    "### 訪問者の行動パターン分析\n",
    "セッションごとのページ閲覧パターンの分析結果は以下の通りです：  \n",
    "\n",
    "各セッションで訪問されたページのリストと、そのセッションにおけるページ閲覧数を集計しました。例えば：  \n",
    "- セッションID session_1では、/page25が1回閲覧されています。\n",
    "- セッションID session_10では、/page39と/page44が合計で2回閲覧されています。\n",
    "- セッションID session_1001では、/page23と/page17が合計で2回閲覧されています。\n",
    "\n",
    "この分析から、ユーザーがウェブサイト上でどのようなページを訪問し、どのような順序でページを閲覧しているかがわかります。これにより、ユーザーの興味や行動傾向をより深く理解し、ウェブサイトのナビゲーションやコンテンツの改善に役立てることができます。  \n"
   ]
  },
  {
   "cell_type": "code",
   "execution_count": null,
   "metadata": {},
   "outputs": [],
   "source": [
    "# セッションIDごとのページ閲覧パターンを分析\n",
    "session_pageviews = ga_pageviews_data.groupby('session_id')['page_path'].apply(list).reset_index()\n",
    "\n",
    "# 各セッションのページ閲覧数\n",
    "session_pageviews['pageviews_count'] = session_pageviews['page_path'].apply(len)\n",
    "\n",
    "# 代表的なセッションのページ閲覧パターンを確認\n",
    "session_pageviews.head()\n"
   ]
  },
  {
   "cell_type": "markdown",
   "metadata": {},
   "source": [
    "### 洞察と提案\n",
    "1. ユーザー属性と商品の関心:  \n",
    "   - 特定の年齢層が特定の商品に特に関心を示していることが分かりました。例えば、若年層が特定の商品カテゴリに興味を持っている可能性があります。\n",
    "   - 提案: 年齢層別のマーケティングキャンペーンを実施し、ターゲットに合わせた商品のプロモーションを行う。また、年齢層別の商品推薦システムを導入して、ユーザーエクスペリエンスを向上させる。\n",
    "2. キャンペーンの効果:\n",
    "   - 特定のキャンペーン期間中に売上が顕著に増加していることが確認できました。\n",
    "   - 提案: 成功したキャンペーンの要素（期間、内容、ターゲット市場）を分析し、将来のキャンペーン設計に活かす。\n",
    "3. ウェブサイトのトラフィックと行動パターン:\n",
    "   - 特定のページが高いトラフィックを集めており、ユーザーの行動パターンに基づいてページの人気度が異なることがわかりました。\n",
    "   - 提案: 人気ページをさらに強化し、関連コンテンツやアップセルの機会を設ける。また、ユーザーの行動パターンに基づいてウェブサイトのナビゲーションを最適化し、ユーザーが求める情報に迅速にアクセスできるようにする。\n",
    "\n"
   ]
  },
  {
   "cell_type": "markdown",
   "metadata": {},
   "source": []
  }
 ],
 "metadata": {
  "kernelspec": {
   "display_name": ".venv",
   "language": "python",
   "name": "python3"
  },
  "language_info": {
   "codemirror_mode": {
    "name": "ipython",
    "version": 3
   },
   "file_extension": ".py",
   "mimetype": "text/x-python",
   "name": "python",
   "nbconvert_exporter": "python",
   "pygments_lexer": "ipython3",
   "version": "3.8.10"
  }
 },
 "nbformat": 4,
 "nbformat_minor": 2
}
