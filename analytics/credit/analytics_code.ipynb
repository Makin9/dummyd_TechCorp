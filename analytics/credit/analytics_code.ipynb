{
 "cells": [
  {
   "cell_type": "code",
   "execution_count": null,
   "metadata": {},
   "outputs": [],
   "source": [
    "core_path=\"\"\n",
    "base_path=f'{core_path}/base'\n",
    "credit_path=f'{core_path}/credit'"
   ]
  },
  {
   "cell_type": "markdown",
   "metadata": {},
   "source": [
    "## 基本統計情報とデータ型\n",
    "\n",
    "### credit_cards.csv - クレジットカード情報\n",
    "\n",
    "- card_number: カード番号\n",
    "- user_id: ユーザーID\n",
    "- expiration_date: 有効期限\n",
    "- card_type: カードの種類（Visa, MasterCardなど）\n",
    "\n",
    "### card_transactions.csv - クレジットカード取引情報\n",
    "\n",
    "- transaction_id: 取引ID\n",
    "- card_number: カード番号\n",
    "- transaction_amount: 取引額\n",
    "- transaction_date: 取引日時\n",
    "- store_id: 店舗ID\n",
    "\n",
    "\n",
    "# 分析内容\n",
    "\n",
    "次に、これらのデータを基に以下の分析を行います：  \n",
    "1. クレジットカード情報の基本統計情報（カードタイプの分布、有効期限の分布など）\n",
    "2. 取引データの基本統計情報（取引額の分布、取引の時間的傾向など）\n",
    "3. ユーザーデータと取引データの結合による、ユーザー別の取引活動の分析\n",
    "\n",
    "まずは、クレジットカード情報と取引データの基本統計情報を確認しましょう。"
   ]
  },
  {
   "cell_type": "code",
   "execution_count": null,
   "metadata": {},
   "outputs": [],
   "source": [
    "import pandas as pd\n",
    "\n",
    "\n",
    "# ユーザーデータのファイルを読み込む\n",
    "user_data_path = f'{base_path}/users.csv'\n",
    "user_data = pd.read_csv(user_data_path)\n",
    "\n",
    "# データの最初の数行を表示して内容を確認\n",
    "print(user_data.head())\n",
    "\n",
    "# クレジットカードに関する情報のファイルを読み込む\n",
    "credit_cards_path = f'{credit_path}/credit_cards.csv'\n",
    "credit_cards_data = pd.read_csv(credit_cards_path)\n",
    "\n",
    "# クレジットカード取引に関する情報のファイルを読み込む\n",
    "card_transactions_path = f'{credit_path}/card_transactions.csv'\n",
    "card_transactions_data = pd.read_csv(card_transactions_path)\n",
    "\n",
    "# データの最初の数行を表示して内容を確認\n",
    "credit_cards_data_head = credit_cards_data.head()\n",
    "card_transactions_data_head = card_transactions_data.head()\n",
    "\n",
    "print(credit_cards_data_head, card_transactions_data_head)\n"
   ]
  },
  {
   "cell_type": "markdown",
   "metadata": {},
   "source": [
    "### クレジットカード情報 (credit_cards.csv)\n",
    "\n",
    "- カードの総数は450枚です。\n",
    "- カードタイプは5種類（Visa, MasterCard, JCB, Amex, Discover）で、Visaが111枚で最も多いです。\n",
    "- 有効期限の分布は広がっていますが、特定の日付に集中する傾向は見られません。\n",
    "\n",
    "### 取引データ (card_transactions.csv)\n",
    "\n",
    "- 取引の総数は1000件です。\n",
    "- 取引金額の平均は約24,828円、標準偏差は約14,394円です。\n",
    "- 取引データは2022年12月12日から2023年12月12日までの1年間にわたっています。"
   ]
  },
  {
   "cell_type": "markdown",
   "metadata": {},
   "source": [
    "\n",
    "### ユーザーデータと取引データの結合による、ユーザー別の取引活動の分析\n",
    "\n",
    "次に、ユーザーデータと取引データを結合して、ユーザーごとの取引パターンや活動の分析を行います。これにより、どのようなユーザーセグメントがクレジットカードを頻繁に使用しているか、また取引額が大きいかなどの洞察が得られる可能性があります。  \n",
    "\n",
    "結合にはユーザーID（user_id）を使用します。まずはカード情報と取引データをカード番号（card_number）で結合し、その後にユーザーデータを結合して分析を行います。 ​​  \n"
   ]
  },
  {
   "cell_type": "code",
   "execution_count": null,
   "metadata": {},
   "outputs": [],
   "source": [
    "# クレジットカード情報の基本統計情報\n",
    "credit_cards_info = credit_cards_data.describe(include='all')\n",
    "credit_cards_types = credit_cards_data['card_type'].value_counts()\n",
    "\n",
    "# 取引データの基本統計情報\n",
    "card_transactions_info = card_transactions_data.describe()\n",
    "card_transactions_data['transaction_date'] = pd.to_datetime(card_transactions_data['transaction_date'], errors='coerce')\n",
    "transaction_date_distribution = card_transactions_data['transaction_date'].describe(datetime_is_numeric=True)\n",
    "\n",
    "credit_cards_info, credit_cards_types, card_transactions_info, transaction_date_distribution\n"
   ]
  },
  {
   "cell_type": "markdown",
   "metadata": {},
   "source": [
    "\n",
    "結合したデータから、クレジットカードの取引に関連するユーザー情報が見えてきました。このデータを利用して、以下の分析を行います：  \n",
    "1. ユーザー別取引活動: 各ユーザーの取引件数、平均取引額、合計取引額など。\n",
    "2. 年齢別取引傾向: 異なる年齢層のユーザーがどのような取引パターンを持っているか。\n",
    "3. 時間的傾向: 取引が多い時間帯や曜日、月などの分析。"
   ]
  },
  {
   "cell_type": "markdown",
   "metadata": {},
   "source": [
    "まずはユーザー別の取引活動に焦点を当てて分析を進めます。各ユーザーの取引件数、平均取引額、合計取引額を計算し、どのユーザーが最も活発にカードを使用しているかを把握しましょう。  "
   ]
  },
  {
   "cell_type": "code",
   "execution_count": null,
   "metadata": {},
   "outputs": [],
   "source": [
    "# カード情報と取引データをカード番号で結合\n",
    "combined_card_data = pd.merge(card_transactions_data, credit_cards_data, on=\"card_number\")\n",
    "\n",
    "# ユーザーデータと結合\n",
    "combined_user_card_data = pd.merge(combined_card_data, user_data, on=\"user_id\")\n",
    "\n",
    "# 結合したデータの最初の数行を表示\n",
    "combined_user_card_data.head()\n"
   ]
  },
  {
   "cell_type": "markdown",
   "metadata": {},
   "source": [
    "ユーザー別のクレジットカード取引活動の分析結果は以下の通りです。  \n",
    "\n",
    "最も活発なカード利用者の上位5名は以下のようになっています（ユーザーID順）：  \n",
    "\n",
    "1. ユーザーID 448\n",
    "   - 取引回数: 10回\n",
    "   - 平均取引額: 約29,259円\n",
    "   - 合計取引額: 292,585円\n",
    "2. ユーザーID 379\n",
    "   - 取引回数: 10回\n",
    "   - 平均取引額: 約29,141円\n",
    "   - 合計取引額: 291,414円\n",
    "3. ユーザーID 44\n",
    "   - 取引回数: 12回\n",
    "   - 平均取引額: 約23,911円\n",
    "   - 合計取引額: 286,934円\n",
    "4. ユーザーID 394\n",
    "   - 取引回数: 12回\n",
    "   - 平均取引額: 約22,996円\n",
    "   - 合計取引額: 275,947円\n",
    "5. ユーザーID 193\n",
    "   - 取引回数: 12回\n",
    "   - 平均取引額: 約22,063円\n",
    "   - 合計取引額: 264,751円\n",
    "\n",
    "これらのデータから、TechCorpがどのような顧客層に対して特にサービスを強化するべきか、また特定の顧客層に向けたマーケティング戦略を策定する際の参考になるでしょう。\n",
    "\n",
    "次に、年齢別取引傾向や時間的傾向についても分析していきます。これにより、年齢層や時間帯に応じた顧客行動の理解が深まります。どのような分析を希望されますか？"
   ]
  },
  {
   "cell_type": "code",
   "execution_count": null,
   "metadata": {},
   "outputs": [],
   "source": [
    "# 各ユーザーの取引活動に関する統計情報を計算\n",
    "user_transactions_stats = combined_user_card_data.groupby('user_id').agg(\n",
    "    total_transactions=pd.NamedAgg(column='transaction_amount', aggfunc='count'),\n",
    "    average_transaction_amount=pd.NamedAgg(column='transaction_amount', aggfunc='mean'),\n",
    "    total_transaction_amount=pd.NamedAgg(column='transaction_amount', aggfunc='sum')\n",
    ").reset_index()\n",
    "\n",
    "# 統計情報を合計取引額で降順にソート\n",
    "sorted_user_transactions_stats = user_transactions_stats.sort_values(by='total_transaction_amount', ascending=False)\n",
    "\n",
    "sorted_user_transactions_stats.head()\n"
   ]
  },
  {
   "cell_type": "markdown",
   "metadata": {},
   "source": [
    "次に、以下の2つの分析を進めます：  \n",
    "1. **年齢別取引傾向**: 各年齢層のユーザーがどのような取引パターンを示しているかを分析します。これには取引件数、平均取引額、合計取引額を年齢層別に集計します。\n",
    "2. **時間的傾向**: 取引データを時間別（時間帯、曜日、月）に分析して、特定の時間帯や期間における取引の傾向を把握します。\n",
    "\n",
    "まずは年齢別取引傾向の分析から始めましょう。年齢層ごとの取引パターンを確認するために、年齢層別の統計情報を集計します。\n",
    "\n",
    "年齢層別のクレジットカード取引活動の分析結果は以下の通りです。\n",
    "\n",
    "| 年齢層 | 取引回数 | 平均取引額 (円) | 合計取引額 (円) |\n",
    "| --- | --- | --- | --- |\n",
    "| 10歳～20歳 | 61回 | 22,027 | 1,343,665 |\n",
    "| 20歳～30歳 | 158回 | 24,076 | 3,804,030 |\n",
    "| 30歳～40歳 | 203回 | 26,341 | 5,347,128 |\n",
    "| 40歳～50歳 | 185回 | 25,738 | 4,761,492 |\n",
    "| 50歳～60歳 | 211回 | 25,055 | 5,286,576 |\n",
    "| 60歳～70歳 | 182回 | 23,546 | 4,285,370 |\n",
    "| 70歳以上 | 0回 | - | 0 |\n",
    "\n",
    "この分析から、30歳～60歳の年齢層がクレジットカード取引において最も活発であることがわかります。特に30歳～40歳と50歳～60歳の層は、取引回数と合計取引額が高いことが見て取れます。一方で、70歳以上の層では取引が確認されていません。  \n",
    "\n",
    "次に、時間的傾向の分析に進みます。これには取引データを時間帯（朝/昼/夜）、曜日、月別に分析し、特定の時間帯や期間における取引の傾向を確認します。  "
   ]
  },
  {
   "cell_type": "code",
   "execution_count": null,
   "metadata": {},
   "outputs": [],
   "source": [
    "# 年齢層別の取引活動に関する統計情報を計算\n",
    "age_group_transactions_stats = combined_user_card_data.groupby(pd.cut(combined_user_card_data['age'], bins=range(10, 81, 10))).agg(\n",
    "    total_transactions=pd.NamedAgg(column='transaction_amount', aggfunc='count'),\n",
    "    average_transaction_amount=pd.NamedAgg(column='transaction_amount', aggfunc='mean'),\n",
    "    total_transaction_amount=pd.NamedAgg(column='transaction_amount', aggfunc='sum')\n",
    ").reset_index()\n",
    "\n",
    "age_group_transactions_stats\n"
   ]
  },
  {
   "cell_type": "markdown",
   "metadata": {},
   "source": [
    "時間的傾向に関するクレジットカード取引の分析結果は以下の通りです。  \n",
    "\n",
    "### 時間帯別取引  \n",
    "\n",
    "- 朝（Morning）: 261回の取引、平均取引額約25,048円\n",
    "- 昼（Afternoon）: 244回の取引、平均取引額約25,285円\n",
    "- 夕方（Evening）: 240回の取引、平均取引額約24,697円\n",
    "- 深夜（Night）: 255回の取引、平均取引額約24,290円\n",
    "\n",
    "### 曜日別取引\n",
    "月曜（0）から日曜（6）までの取引は均等に分布しており、平均取引額は22,869円から25,967円の範囲です。    \n",
    "\n",
    "### 月別取引\n",
    "月別の取引件数は月によって若干の変動があり、平均取引額は21,925円から26,981円の範囲です。  \n",
    "\n",
    "これらの分析から、時間帯、曜日、月別における取引の傾向が把握できます。時間帯別では、朝と昼にやや多くの取引があり、曜日別と月別の取引は比較的均等に分布しています。これらの情報は、特定の時間帯や曜日、月におけるプロモーションやマーケティング活動の計画に活用できます。\n",
    "\n",
    "他に分析してほしい点や、次に進むデータがありましたらお知らせください。"
   ]
  },
  {
   "cell_type": "code",
   "execution_count": null,
   "metadata": {},
   "outputs": [],
   "source": [
    "import numpy as np\n",
    "\n",
    "# 時間帯、曜日、月のカラムを追加\n",
    "combined_user_card_data['hour'] = combined_user_card_data['transaction_date'].dt.hour\n",
    "combined_user_card_data['weekday'] = combined_user_card_data['transaction_date'].dt.weekday\n",
    "combined_user_card_data['month'] = combined_user_card_data['transaction_date'].dt.month\n",
    "\n",
    "# 時間帯を定義（朝: 6-12, 昼: 12-18, 夜: 18-24, 深夜: 0-6）\n",
    "def assign_time_of_day(hour):\n",
    "    if 6 <= hour < 12:\n",
    "        return 'Morning'\n",
    "    elif 12 <= hour < 18:\n",
    "        return 'Afternoon'\n",
    "    elif 18 <= hour <= 23:\n",
    "        return 'Evening'\n",
    "    else:\n",
    "        return 'Night'\n",
    "\n",
    "combined_user_card_data['time_of_day'] = combined_user_card_data['hour'].apply(assign_time_of_day)\n",
    "\n",
    "# 時間帯別、曜日別、月別の取引件数と平均取引額の計算\n",
    "time_of_day_stats = combined_user_card_data.groupby('time_of_day').agg(\n",
    "    total_transactions=pd.NamedAgg(column='transaction_amount', aggfunc='count'),\n",
    "    average_transaction_amount=pd.NamedAgg(column='transaction_amount', aggfunc='mean')\n",
    ")\n",
    "\n",
    "weekday_stats = combined_user_card_data.groupby('weekday').agg(\n",
    "    total_transactions=pd.NamedAgg(column='transaction_amount', aggfunc='count'),\n",
    "    average_transaction_amount=pd.NamedAgg(column='transaction_amount', aggfunc='mean')\n",
    ")\n",
    "\n",
    "month_stats = combined_user_card_data.groupby('month').agg(\n",
    "    total_transactions=pd.NamedAgg(column='transaction_amount', aggfunc='count'),\n",
    "    average_transaction_amount=pd.NamedAgg(column='transaction_amount', aggfunc='mean')\n",
    ")\n",
    "\n",
    "time_of_day_stats, weekday_stats, month_stats\n"
   ]
  }
 ],
 "metadata": {
  "kernelspec": {
   "display_name": ".venv",
   "language": "python",
   "name": "python3"
  },
  "language_info": {
   "codemirror_mode": {
    "name": "ipython",
    "version": 3
   },
   "file_extension": ".py",
   "mimetype": "text/x-python",
   "name": "python",
   "nbconvert_exporter": "python",
   "pygments_lexer": "ipython3",
   "version": "3.8.10"
  }
 },
 "nbformat": 4,
 "nbformat_minor": 2
}
