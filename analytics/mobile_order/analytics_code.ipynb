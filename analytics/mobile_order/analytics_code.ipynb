{
 "cells": [
  {
   "cell_type": "code",
   "execution_count": null,
   "metadata": {},
   "outputs": [],
   "source": [
    "core_path=\"C:\\Users\\n75se\\Documents\\Myscript\\99_work\\dummyd_TechCorp\\data\\mobile_order\"\n",
    "base_path=f'{core_path}\\base'\n",
    "mo_path=f'{core_path}\\mobile'\n",
    "\n",
    "# ECサイト事業関連ファイルの読み込み\n",
    "def add_path(file):\n",
    "    return f'{mo_path}/{file}'"
   ]
  },
  {
   "cell_type": "code",
   "execution_count": null,
   "metadata": {},
   "outputs": [],
   "source": [
    "import pandas as pd\n",
    "# 再アップロードされたモバイルオーダー事業関連ファイルの読み込みと内容確認\n",
    "try:\n",
    "    # ファイルの読み込み\n",
    "    mobile_orders_data = pd.read_csv(add_path(\"mobile_orders.csv\"))\n",
    "    mobile_orders_coupons_data = pd.read_csv(add_path(\"mobile_orders_coupons.csv\"))\n",
    "    mobile_orders_info_data = pd.read_csv(add_path(\"mobile_orders_info.csv\"))\n",
    "\n",
    "    # 各データの最初の数行を表示して内容を確認\n",
    "    mobile_orders_head = mobile_orders_data.head()\n",
    "    mobile_orders_coupons_head = mobile_orders_coupons_data.head()\n",
    "    mobile_orders_info_head = mobile_orders_info_data.head()\n",
    "\n",
    "    mobile_orders_head, mobile_orders_coupons_head, mobile_orders_info_head\n",
    "except Exception as e:\n",
    "    error_message = str(e)\n",
    "    error_message\n"
   ]
  }
 ],
 "metadata": {
  "language_info": {
   "name": "python"
  }
 },
 "nbformat": 4,
 "nbformat_minor": 2
}
