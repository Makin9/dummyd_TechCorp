{
 "cells": [
  {
   "cell_type": "code",
   "execution_count": 9,
   "metadata": {},
   "outputs": [],
   "source": [
    "core_path=\"C:/Users/n75se/Documents/Myscript/99_work/dummyd_TechCorp/data\"\n",
    "base_path=f'{core_path}/base'\n",
    "mo_path=f'{core_path}/mobile_order'\n",
    "\n",
    "# ECサイト事業関連ファイルの読み込み\n",
    "def add_path(file):\n",
    "    return f'{mo_path}/{file}'"
   ]
  },
  {
   "cell_type": "code",
   "execution_count": 11,
   "metadata": {},
   "outputs": [
    {
     "name": "stdout",
     "output_type": "stream",
     "text": [
      "   order_id  user_id  coupon_id           order_date  pickup_store_id  \\\n",
      "0         1      224      332.0  2023-10-09 03:14:37               48   \n",
      "1         2      335      155.0  2022-12-01 05:22:36               59   \n",
      "2         3       77      574.0  2021-07-08 22:12:32               93   \n",
      "3         4       21       88.0  2021-04-30 17:09:12               74   \n",
      "4         5      366      884.0  2023-07-18 07:34:52               98   \n",
      "\n",
      "   total_amount  \n",
      "0       2155.70  \n",
      "1       3794.63  \n",
      "2       4487.50  \n",
      "3       7668.39  \n",
      "4       7165.30      coupon_id coupon_code  discount_value expiration_date        creation_date\n",
      "0          1  MYNBIQPMZJ           37.82      2022-10-10  2021-10-26 09:11:38\n",
      "1          2  PLSGQEJEYD           47.04      2023-02-17  2021-05-20 16:23:38\n",
      "2          3  TZIRWZTEJD           36.50      2023-12-30  2023-04-25 22:16:45\n",
      "3          4  XCVKPRDLNK           24.44      2021-12-15  2022-08-18 01:23:45\n",
      "4          5  TUGRPOQIBZ            8.77      2022-12-17  2021-03-07 00:41:17    order_id  product_id  order_quantity\n",
      "0       970         181               2\n",
      "1      2791         281               3\n",
      "2       959         218               1\n",
      "3       635         262               6\n",
      "4       103         146               8\n"
     ]
    }
   ],
   "source": [
    "import pandas as pd\n",
    "# 再アップロードされたモバイルオーダー事業関連ファイルの読み込みと内容確認\n",
    "try:\n",
    "    # ファイルの読み込み\n",
    "    mobile_orders_data = pd.read_csv(add_path(\"mobile_orders.csv\"))\n",
    "    mobile_orders_coupons_data = pd.read_csv(add_path(\"mobile_orders_coupons.csv\"))\n",
    "    mobile_orders_info_data = pd.read_csv(add_path(\"mobile_orders_info.csv\"))\n",
    "\n",
    "    # 各データの最初の数行を表示して内容を確認\n",
    "    mobile_orders_head = mobile_orders_data.head()\n",
    "    mobile_orders_coupons_head = mobile_orders_coupons_data.head()\n",
    "    mobile_orders_info_head = mobile_orders_info_data.head()\n",
    "\n",
    "    print(mobile_orders_head, mobile_orders_coupons_head, mobile_orders_info_head)\n",
    "except Exception as e:\n",
    "    error_message = str(e)\n",
    "    print(error_message)\n"
   ]
  }
 ],
 "metadata": {
  "kernelspec": {
   "display_name": ".venv",
   "language": "python",
   "name": "python3"
  },
  "language_info": {
   "codemirror_mode": {
    "name": "ipython",
    "version": 3
   },
   "file_extension": ".py",
   "mimetype": "text/x-python",
   "name": "python",
   "nbconvert_exporter": "python",
   "pygments_lexer": "ipython3",
   "version": "3.8.10"
  }
 },
 "nbformat": 4,
 "nbformat_minor": 2
}
