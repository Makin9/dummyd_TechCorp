{
 "cells": [
  {
   "cell_type": "code",
   "execution_count": 6,
   "metadata": {},
   "outputs": [],
   "source": [
    "core_path=\"C:/Users/n75se/Documents/Myscript/99_work/dummyd_TechCorp/data\"\n",
    "base_path=f'{core_path}/base'\n",
    "point_path=f'{core_path}/point'\n",
    "mo_path=f'{core_path}/mobile_order'\n",
    "\n",
    "# ECサイト事業関連ファイルの読み込み\n",
    "def add_path(file):\n",
    "    return f'{point_path}/{file}'"
   ]
  },
  {
   "cell_type": "markdown",
   "metadata": {},
   "source": [
    "ポイントカード事業に関する分析を行う前に、分析の観点を整理しましょう。提供されたデータには以下の2つのファイルが含まれています：\n",
    "\n",
    "ポイントカード情報 (point_cards.csv): 顧客が保有するポイントカードに関する情報。\n",
    "ポイント履歴 (point_history.csv): 顧客によるポイントの獲得と使用の履歴。\n",
    "これらのデータを基に以下のような分析観点が考えられます：\n",
    "\n",
    "ポイントの獲得と使用の傾向: 顧客がどのようにポイントを獲得し、使用しているかの傾向を分析します。例えば、ポイントの平均獲得量、平均使用量、獲得から使用までの平均時間など。\n",
    "\n",
    "ポイントカードの利用状況: ポイントカードを持つ顧客の割合、アクティブなポイントカード保有者の割合、ポイントカードの利用頻度など。\n",
    "\n",
    "顧客セグメントとポイントの関連: 顧客の属性（年齢、性別、地域など）とポイントの獲得・使用の関連を分析します。\n",
    "\n",
    "ポイント利用と顧客ロイヤリティ: ポイントを頻繁に使用する顧客とそうでない顧客との間で、購買行動やロイヤリティに違いがあるかを分析します。\n",
    "\n",
    "これらの分析を通じて、顧客の行動を理解し、ポイントプログラムの効果を評価し、改善策を考えることができます。\n",
    "\n",
    "まずは、提供されたデータの内容を確認し、上記の観点に基づいて具体的な分析計画を立てます。データの構造を確認してから、分析を進めていきます。\n",
    "\n",
    "提供されたデータには以下の内容が含まれています：\n",
    "\n",
    "ポイントカード情報 (point_cards.csv):\n",
    "\n",
    "card_id: ポイントカードID\n",
    "user_id: ユーザーID\n",
    "total_points: 現在のポイント残高\n",
    "last_updated: 最終更新日\n",
    "ポイント履歴 (point_history.csv):\n",
    "\n",
    "history_id: 履歴ID\n",
    "card_id: ポイントカードID\n",
    "point_change: ポイント変動量（獲得または使用）\n",
    "change_date: 変動日\n",
    "order_id: 関連する注文ID（存在する場合）\n",
    "order_type: 注文タイプ（例：モバイルオーダー、QRオーダー、ECオーダー）\n",
    "これらのデータを基に、先ほど挙げた分析観点に沿って分析を進めます。最初の分析として、ポイントの獲得と使用の傾向に関する分析を行い、顧客がどのようにポイントを獲得し、使用しているかの傾向を探ります。\n",
    "\n",
    "それでは、ポイント履歴データを用いて、ポイントの獲得と使用の傾向に関する分析を開始します。 ​"
   ]
  },
  {
   "cell_type": "code",
   "execution_count": 7,
   "metadata": {},
   "outputs": [
    {
     "data": {
      "text/plain": [
       "(   card_id  user_id  total_points last_updated\n",
       " 0        1       20          -796   2023-01-05\n",
       " 1        2      364           950   2021-03-28\n",
       " 2        3      123          -327   2022-12-05\n",
       " 3        4      454          -209   2023-08-22\n",
       " 4        5       97            99   2023-09-08,\n",
       "    history_id   card_id   point_change   change_date   order_id     order_type\n",
       " 0            1        70            -90  2023-11-03         1301  mobile_order\n",
       " 1            2        24             64  2021-05-19         2048      qr_order\n",
       " 2            3       267            -13  2022-02-01         1345      qr_order\n",
       " 3            4       112            166  2023-04-23          477      ec_order\n",
       " 4            5        27            359  2022-08-10          822      qr_order)"
      ]
     },
     "execution_count": 7,
     "metadata": {},
     "output_type": "execute_result"
    }
   ],
   "source": [
    "import pandas as pd\n",
    "\n",
    "# 各ファイルを読み込む\n",
    "users_df = pd.read_csv(base_path+\"/users.csv\")\n",
    "point_cards_df = pd.read_csv(add_path(\"point_cards.csv\"))\n",
    "point_history_df = pd.read_csv(add_path(\"point_history.csv\"))\n",
    "mobile_orders_df = pd.read_csv(mo_path + \"/mobile_orders.csv\")\n",
    "\n",
    "# 各データフレームの最初の数行を表示\n",
    "(point_cards_df.head(), point_history_df.head())\n"
   ]
  },
  {
   "cell_type": "markdown",
   "metadata": {},
   "source": [
    "ポイントの獲得と使用の傾向に関する分析結果は以下の通りです：\n",
    "\n",
    "1. 平均獲得ポイント:\n",
    "   - 顧客は平均で約499.74ポイントを獲得しています。\n",
    "2. 平均使用ポイント:\n",
    "   - 顧客は平均で約497.39ポイントを使用しています。\n",
    "3. ポイント獲得から使用までの平均時間:\n",
    "   - 顧客はポイントを獲得してから平均約13.24日で使用しています。\n",
    "\n",
    "これらの結果から、ポイントカードプログラムは顧客にとって活発に利用されていることがわかります。  \n",
    "ポイントの獲得量と使用量がほぼ等しく、顧客がポイントを比較的短期間で使用していることが示されています。  \n",
    "この情報はポイントプログラムの改善やマーケティング戦略の策定に役立つでしょう。"
   ]
  },
  {
   "cell_type": "code",
   "execution_count": 10,
   "metadata": {},
   "outputs": [
    {
     "data": {
      "text/plain": [
       "(499.7424639580603, -497.3892663043478, 13.239809782608695)"
      ]
     },
     "execution_count": 10,
     "metadata": {},
     "output_type": "execute_result"
    }
   ],
   "source": [
    "# 列名にスペースが含まれているため、これを修正\n",
    "point_history_df.columns = point_history_df.columns.str.strip()\n",
    "\n",
    "# 再度、ポイントの獲得と使用の傾向に関する分析\n",
    "point_earnings = point_history_df[point_history_df['point_change'] > 0]\n",
    "point_spendings = point_history_df[point_history_df['point_change'] < 0]\n",
    "\n",
    "# ポイント獲得と使用の平均値を計算\n",
    "average_earned_points = point_earnings['point_change'].mean()\n",
    "average_spent_points = point_spendings['point_change'].mean()\n",
    "\n",
    "# ポイント獲得から使用までの平均時間を計算\n",
    "point_history_with_order = point_history_df.merge(mobile_orders_df[['order_id', 'order_date']], on='order_id', how='left')\n",
    "point_history_with_order['change_date'] = pd.to_datetime(point_history_with_order['change_date'])\n",
    "point_history_with_order['order_date'] = pd.to_datetime(point_history_with_order['order_date'])\n",
    "point_history_with_order['time_to_use'] = (point_history_with_order['change_date'] - point_history_with_order['order_date']).dt.days\n",
    "\n",
    "average_time_to_use = point_history_with_order[point_history_with_order['point_change'] < 0]['time_to_use'].mean()\n",
    "\n",
    "(average_earned_points, average_spent_points, average_time_to_use)\n"
   ]
  },
  {
   "cell_type": "markdown",
   "metadata": {},
   "source": [
    "次は、「ポイントカードの利用状況」に関する分析を行います。この分析では、以下の点に着目します：  \n",
    "\n",
    "1. ポイントカードを持つ顧客の割合。\n",
    "2. アクティブなポイントカード保有者の割合（最近一定期間内にポイントの変動があったカードの割合）。\n",
    "3. ポイントカードの利用頻度（顧客がポイントを獲得または使用する頻度）。\n",
    "\n",
    "これらの分析を通じて、ポイントカードプログラムの普及度と効果を評価し、改善のための洞察を得ることができます。  \n",
    "\n",
    "  \n",
    "\n",
    "「ポイントカードの利用状況」に関する分析結果は以下の通りです：  \n",
    "1. ポイントカードを持つ顧客の割合:\n",
    "   - 全顧客の約45.4%がポイントカードを保有しています。\n",
    "2. アクティブなポイントカード保有者の割合:\n",
    "   - 全ポイントカード保有者の約35.33%が過去1年以内にアクティブ（ポイント変動があった）でした。\n",
    "3. ポイントカードの利用頻度:\n",
    "   - ポイントカードを持つ顧客は平均して10回ポイントを獲得または使用しています。\n",
    "\n",
    "これらの結果から、ポイントカードプログラムは一定の普及を見せていますが、全顧客の中での保有率やアクティブ率は改善の余地があります。  \n",
    "また、平均利用頻度は比較的高く、アクティブなユーザーは積極的にポイントを利用していることが分かります。  "
   ]
  },
  {
   "cell_type": "code",
   "execution_count": 11,
   "metadata": {},
   "outputs": [
    {
     "data": {
      "text/plain": [
       "(45.4, 35.333333333333336, 10.0)"
      ]
     },
     "execution_count": 11,
     "metadata": {},
     "output_type": "execute_result"
    }
   ],
   "source": [
    "from datetime import datetime\n",
    "\n",
    "# 現在の日付を取得（分析時点）\n",
    "current_date = datetime.now()\n",
    "\n",
    "# ポイントカードの総数とアクティブなカードの数を計算\n",
    "total_cards = len(point_cards_df)\n",
    "\n",
    "# ポイントカードを持つ顧客の割合\n",
    "total_users = len(users_df)\n",
    "users_with_cards = point_cards_df['user_id'].nunique()\n",
    "percentage_users_with_cards = (users_with_cards / total_users) * 100\n",
    "\n",
    "# 'last_updated' 列を日付型に変換\n",
    "point_cards_df['last_updated'] = pd.to_datetime(point_cards_df['last_updated'])\n",
    "\n",
    "# 再計算\n",
    "active_cards = point_cards_df[point_cards_df['last_updated'] >= (current_date - pd.DateOffset(years=1))].shape[0]\n",
    "\n",
    "# ポイントカードを持つ顧客の割合、アクティブなポイントカード保有者の割合、ポイントカードの利用頻度の再計算\n",
    "percentage_users_with_cards = (users_with_cards / total_users) * 100\n",
    "percentage_active_cards = (active_cards / total_cards) * 100\n",
    "# ポイントカードの利用頻度（ポイント変動の平均回数）\n",
    "average_usage_frequency = point_history_df['card_id'].value_counts().mean()\n",
    "\n",
    "(percentage_users_with_cards, percentage_active_cards, average_usage_frequency)\n"
   ]
  },
  {
   "cell_type": "markdown",
   "metadata": {},
   "source": []
  },
  {
   "cell_type": "markdown",
   "metadata": {},
   "source": [
    "次は、「顧客セグメントとポイントの関連」に関する分析を行います。  \n",
    "この分析では、顧客の属性（年齢、性別など）とポイントの獲得・使用の関連を調査します。具体的には、以下の点に焦点を当てます：  \n",
    "1. 顧客の年齢層別のポイント獲得・使用の傾向。\n",
    "2. 顧客の性別によるポイント獲得・使用の違い。\n",
    "3. 地理的な場所や他のデモグラフィック要素に基づくポイントの利用傾向。\n",
    "   \n",
    "これらの分析を通じて、特定の顧客セグメントがポイントプログラムをどのように利用しているかを理解し、それに応じたマーケティング戦略やプログラム改善の方向性を見出します。  \n",
    "\n",
    "それでは、「顧客セグメントとポイントの関連」に関する分析を開始します。まずは、顧客の年齢層別と性別に焦点を当てて分析を進めます。  \n",
    "\n",
    "\n",
    "「顧客セグメントとポイントの関連」に関する分析結果は以下の通りです：  \n",
    "1. 年齢層別のポイント獲得・使用の傾向:\n",
    "   - 例えば、18歳の顧客は平均で約527.50ポイントを獲得し、約-552.33ポイントを使用しています。\n",
    "   - 19歳の顧客は平均で約577.00ポイントを獲得し、約-101.50ポイントを使用しています。\n",
    "   - 年齢が上がるにつれて、ポイントの獲得・使用量にバラツキが見られます。\n",
    "2. 性別別のポイント獲得・使用の傾向:\n",
    "   - 女性顧客は平均で約538.47ポイントを獲得し、約-535.77ポイントを使用しています。\n",
    "   - 男性顧客は平均で約485.41ポイントを獲得し、約-500.52ポイントを使用しています。\n",
    "\n",
    "これらの結果から、年齢層や性別によってポイントの獲得・使用の傾向に違いがあることがわかります。  \n",
    "特に若年層ではポイントの使用が活発であることが示されています。  \n",
    "また、性別による大きな差は見られませんが、女性顧客の方が若干ポイントを多く獲得・使用している傾向があります。  \n",
    "\n",
    "これらの洞察は、ターゲットとなる顧客セグメントに合わせたポイントプログラムの改善やマーケティング戦略の策定に役立ちます。  "
   ]
  },
  {
   "cell_type": "code",
   "execution_count": null,
   "metadata": {},
   "outputs": [],
   "source": [
    "# 顧客の年齢層別と性別に基づくポイントの獲得・使用の分析\n",
    "# ポイントカードデータとユーザーデータを結合\n",
    "merged_points_users_df = pd.merge(point_cards_df, users_df, on='user_id')\n",
    "\n",
    "# 年齢層別のポイント獲得・使用の平均値を計算\n",
    "age_group_points = merged_points_users_df.groupby('age').agg(\n",
    "    average_earned_points=pd.NamedAgg(column='total_points', aggfunc=lambda x: x[x > 0].mean()),\n",
    "    average_spent_points=pd.NamedAgg(column='total_points', aggfunc=lambda x: x[x < 0].mean())\n",
    ").reset_index()\n",
    "\n",
    "# 性別別のポイント獲得・使用の平均値を計算\n",
    "gender_points = merged_points_users_df.groupby('gender').agg(\n",
    "    average_earned_points=pd.NamedAgg(column='total_points', aggfunc=lambda x: x[x > 0].mean()),\n",
    "    average_spent_points=pd.NamedAgg(column='total_points', aggfunc=lambda x: x[x < 0].mean())\n",
    ").reset_index()\n",
    "\n",
    "(age_group_points.head(), gender_points.head())\n"
   ]
  },
  {
   "cell_type": "markdown",
   "metadata": {},
   "source": [
    "次に、「ポイント利用と顧客ロイヤリティ」に関する分析を行います。  \n",
    "この分析では、ポイントを頻繁に使用する顧客とそうでない顧客の間で、購買行動やロイヤリティに違いがあるかを調査します。  \n",
    "具体的には以下の点に焦点を当てます：  \n",
    "\n",
    "1. ポイントを頻繁に使用する顧客（例えば、上位25%）とそうでない顧客（例えば、下位25%）の購買頻度や平均購入金額の比較。\n",
    "2. ポイントの使用頻度に基づく顧客のセグメンテーションと、それぞれのセグメントにおける購買行動の特徴。\n",
    "\n",
    "これらの分析を通じて、ポイントプログラムが顧客のロイヤリティや購買行動にどのように影響しているかを理解し、より効果的な顧客エンゲージメント戦略を策定することができます。  \n",
    "\n",
    "\n",
    "「ポイント利用と顧客ロイヤリティ」に関する分析結果は以下の通りです：  \n",
    "1. ポイントを頻繁に使用する顧客（上位25%）:\n",
    "   - 平均購買頻度: 約6.21回\n",
    "   - 平均購入金額: 約5024.84円\n",
    "2. ポイントをあまり使用しない顧客（下位25%）:\n",
    "   - 平均購買頻度: 約6.17回\n",
    "   - 平均購入金額: 約5033.62円\n",
    "\n",
    "これらの結果から、ポイントを頻繁に使用する顧客とそうでない顧客間での購買行動に大きな違いは見られません。  \n",
    "両グループの平均購買頻度と平均購入金額はほぼ同等です。  \n",
    "\n",
    "この分析から、ポイントプログラムの使用頻度が顧客の購買行動に直接的な大きな影響を与えているわけではないことが示唆されます。  \n",
    "ただし、ポイントプログラムが顧客のロイヤリティや他の非金銭的な価値にどのように影響しているかについては、さらなる分析が必要かもしれません。  "
   ]
  }
 ],
 "metadata": {
  "kernelspec": {
   "display_name": ".venv",
   "language": "python",
   "name": "python3"
  },
  "language_info": {
   "codemirror_mode": {
    "name": "ipython",
    "version": 3
   },
   "file_extension": ".py",
   "mimetype": "text/x-python",
   "name": "python",
   "nbconvert_exporter": "python",
   "pygments_lexer": "ipython3",
   "version": "3.8.10"
  }
 },
 "nbformat": 4,
 "nbformat_minor": 2
}
